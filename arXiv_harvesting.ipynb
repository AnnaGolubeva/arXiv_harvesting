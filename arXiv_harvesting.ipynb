{
 "cells": [
  {
   "cell_type": "markdown",
   "metadata": {},
   "source": [
    "# Weekly ArXiv Harvesting\n",
    "\n",
    "This notebook is used to keep track of new arXiv publications in machine learning & physics and to update the list on the physicsml website.\n",
    "\n",
    "### The workflow:\n",
    "- 1) Get all recent publications from the arXiv API; list titles and tags.\n",
    "- 2) Review and select publications to be added to physicsml; collect the indices into one array for each category:\n",
    "    - Applying Machine Learning to Physics\n",
    "    - Physics-Inspired Ideas Applied to Machine Learning\n",
    "    - Quantum Computation and Quantum Algorithms for Machine Learning\n",
    "- 3) Create formatted entries for the selected publications and add them to file papers.md\n",
    "- 4) Add basic data (id, title, sublist) to the file papers_ids_titles_sublists.csv.\n",
    "\n",
    "All functions are saved in arxiv_papers.py in the same folder as this notebook. The functions are:\n",
    "- `harvest_arxiv()`: calls arxiv API and gets recent publications specified in the query, returns parsed arxiv feed (afp)\n",
    "- `list_all(afp)`: lists all entries with index, title, tags for review\n",
    "- `show_info(afp, index)`: displays more info on the specified entry in afp\n",
    "- `formatted_block(afp, indices)`: formats entries and concats them into one string as required for physicsml\n",
    "- `add_papers_to_file(new_papers, filename = 'papers.md)`: adds new entries to file papers.md *\n",
    "- `add_to_csv_list(afp, indices_selected, filename = 'papers_ids_titles_sublists.csv')`: adds new to the csv file *\n",
    "\n",
    " \\* Note: path to file is specified within the function! make sure to adjust to your folder structure!\n",
    "\n",
    "The following cells guide through the workflow."
   ]
  },
  {
   "cell_type": "code",
   "execution_count": null,
   "metadata": {
    "scrolled": true
   },
   "outputs": [],
   "source": [
    "from arxiv_papers import *\n",
    "\n",
    "# get recently published papers from arXiv by calling the arXiv API\n",
    "# info for each publication is stored in afp.entries.KEY for KEY=(title, authors, published, tags, ...)\n",
    "# or\n",
    "# get the info for the specified ids in the list\n",
    "\n",
    "# - uncomment the following line and add id_list as argument into harvest_arxiv()\n",
    "#id_list = '1710.09842'\n",
    "\n",
    "afp = harvest_arxiv()\n",
    "\n",
    "# list all entries with title, tags and publishing date\n",
    "list_all(afp)"
   ]
  },
  {
   "cell_type": "code",
   "execution_count": null,
   "metadata": {},
   "outputs": [],
   "source": [
    "# to review a single entry in detail, plug in its afp index\n",
    "show_info(afp, index=0, pubdate=True, tags=True)"
   ]
  },
  {
   "cell_type": "code",
   "execution_count": null,
   "metadata": {
    "collapsed": true
   },
   "outputs": [],
   "source": [
    "# indices of the publications selected to be added to the list on physicsml\n",
    "\n",
    "# Applying Machine Learning to Physics\n",
    "selected_L1 = [0]\n",
    "\n",
    "# Physics-Inspired Ideas Applied to Machine Learning\n",
    "selected_L2 = []\n",
    "\n",
    "# Quantum Computation and Quantum Algorithms for Machine Learning\n",
    "selected_L3 = []\n",
    "\n",
    "# other interesting (personal note)\n",
    "selected_O = []"
   ]
  },
  {
   "cell_type": "code",
   "execution_count": null,
   "metadata": {
    "collapsed": true
   },
   "outputs": [],
   "source": [
    "indices_selected = [selected_L1, selected_L2, selected_L3]\n",
    "new_papers = []\n",
    "\n",
    "for indices in indices_selected:\n",
    "    new_papers.append(formatted_block(afp, indices))"
   ]
  },
  {
   "cell_type": "code",
   "execution_count": null,
   "metadata": {},
   "outputs": [],
   "source": [
    "# add selected publications to the list of papers in papers.md\n",
    "add_papers_to_file(new_papers)\n",
    "\n",
    "# add selected publications to the list in papers_ids_titles_sublists.csv\n",
    "add_to_csv_list(afp, indices_selected)"
   ]
  },
  {
   "cell_type": "code",
   "execution_count": null,
   "metadata": {
    "collapsed": true
   },
   "outputs": [],
   "source": [
    "# add selected \"other interesting\" papers to the separate csv file Other_interesting.csv\n",
    "add_to_csv_list(afp, selected_O, filename='Other_interesting.csv')"
   ]
  },
  {
   "cell_type": "code",
   "execution_count": null,
   "metadata": {},
   "outputs": [],
   "source": [
    "print new_papers[0]"
   ]
  },
  {
   "cell_type": "code",
   "execution_count": null,
   "metadata": {
    "collapsed": true
   },
   "outputs": [],
   "source": []
  }
 ],
 "metadata": {
  "anaconda-cloud": {},
  "kernelspec": {
   "display_name": "Python [conda root]",
   "language": "python",
   "name": "conda-root-py"
  },
  "language_info": {
   "codemirror_mode": {
    "name": "ipython",
    "version": 2
   },
   "file_extension": ".py",
   "mimetype": "text/x-python",
   "name": "python",
   "nbconvert_exporter": "python",
   "pygments_lexer": "ipython2",
   "version": "2.7.12"
  }
 },
 "nbformat": 4,
 "nbformat_minor": 1
}
